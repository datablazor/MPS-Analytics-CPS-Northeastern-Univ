{
 "cells": [
  {
   "cell_type": "code",
   "execution_count": 1,
   "metadata": {},
   "outputs": [
    {
     "data": {
      "text/plain": [
       "'/Users/sumit/Desktop/Waste'"
      ]
     },
     "execution_count": 1,
     "metadata": {},
     "output_type": "execute_result"
    }
   ],
   "source": [
    "pwd\n"
   ]
  },
  {
   "cell_type": "code",
   "execution_count": 2,
   "metadata": {},
   "outputs": [],
   "source": [
    "import pandas as pd"
   ]
  },
  {
   "cell_type": "code",
   "execution_count": 6,
   "metadata": {},
   "outputs": [],
   "source": [
    "df = pd.read_excel('student.xlt')"
   ]
  },
  {
   "cell_type": "code",
   "execution_count": 7,
   "metadata": {},
   "outputs": [
    {
     "data": {
      "text/html": [
       "<div>\n",
       "<style scoped>\n",
       "    .dataframe tbody tr th:only-of-type {\n",
       "        vertical-align: middle;\n",
       "    }\n",
       "\n",
       "    .dataframe tbody tr th {\n",
       "        vertical-align: top;\n",
       "    }\n",
       "\n",
       "    .dataframe thead th {\n",
       "        text-align: right;\n",
       "    }\n",
       "</style>\n",
       "<table border=\"1\" class=\"dataframe\">\n",
       "  <thead>\n",
       "    <tr style=\"text-align: right;\">\n",
       "      <th></th>\n",
       "      <th>ID</th>\n",
       "      <th>Last Name</th>\n",
       "      <th>First Name</th>\n",
       "      <th>City</th>\n",
       "      <th>State</th>\n",
       "      <th>Gender</th>\n",
       "      <th>Student Status</th>\n",
       "      <th>Major</th>\n",
       "      <th>Country</th>\n",
       "      <th>Age</th>\n",
       "      <th>SAT</th>\n",
       "      <th>Average score (grade)</th>\n",
       "      <th>Height (in)</th>\n",
       "      <th>Newspaper readership (times/wk)</th>\n",
       "      <th>zScore</th>\n",
       "    </tr>\n",
       "  </thead>\n",
       "  <tbody>\n",
       "    <tr>\n",
       "      <th>0</th>\n",
       "      <td>1</td>\n",
       "      <td>DOE01</td>\n",
       "      <td>JANE01</td>\n",
       "      <td>Los Angeles</td>\n",
       "      <td>California</td>\n",
       "      <td>Female</td>\n",
       "      <td>Graduate</td>\n",
       "      <td>Politics</td>\n",
       "      <td>US</td>\n",
       "      <td>30</td>\n",
       "      <td>2263</td>\n",
       "      <td>67.000000</td>\n",
       "      <td>61</td>\n",
       "      <td>5</td>\n",
       "      <td>1.530936</td>\n",
       "    </tr>\n",
       "    <tr>\n",
       "      <th>1</th>\n",
       "      <td>2</td>\n",
       "      <td>DOE02</td>\n",
       "      <td>JANE02</td>\n",
       "      <td>Sedona</td>\n",
       "      <td>Arizona</td>\n",
       "      <td>Female</td>\n",
       "      <td>Undergraduate</td>\n",
       "      <td>Math</td>\n",
       "      <td>US</td>\n",
       "      <td>19</td>\n",
       "      <td>2006</td>\n",
       "      <td>63.000000</td>\n",
       "      <td>64</td>\n",
       "      <td>7</td>\n",
       "      <td>0.580802</td>\n",
       "    </tr>\n",
       "    <tr>\n",
       "      <th>2</th>\n",
       "      <td>3</td>\n",
       "      <td>DOE01</td>\n",
       "      <td>JOE01</td>\n",
       "      <td>Elmira</td>\n",
       "      <td>New York</td>\n",
       "      <td>Male</td>\n",
       "      <td>Graduate</td>\n",
       "      <td>Math</td>\n",
       "      <td>US</td>\n",
       "      <td>26</td>\n",
       "      <td>2221</td>\n",
       "      <td>78.113285</td>\n",
       "      <td>73</td>\n",
       "      <td>6</td>\n",
       "      <td>1.375661</td>\n",
       "    </tr>\n",
       "    <tr>\n",
       "      <th>3</th>\n",
       "      <td>4</td>\n",
       "      <td>DOE02</td>\n",
       "      <td>JOE02</td>\n",
       "      <td>Lackawana</td>\n",
       "      <td>New York</td>\n",
       "      <td>Male</td>\n",
       "      <td>Graduate</td>\n",
       "      <td>Econ</td>\n",
       "      <td>US</td>\n",
       "      <td>33</td>\n",
       "      <td>1716</td>\n",
       "      <td>77.808587</td>\n",
       "      <td>68</td>\n",
       "      <td>3</td>\n",
       "      <td>-0.491334</td>\n",
       "    </tr>\n",
       "    <tr>\n",
       "      <th>4</th>\n",
       "      <td>5</td>\n",
       "      <td>DOE03</td>\n",
       "      <td>JOE03</td>\n",
       "      <td>Defiance</td>\n",
       "      <td>Ohio</td>\n",
       "      <td>Male</td>\n",
       "      <td>Graduate</td>\n",
       "      <td>Econ</td>\n",
       "      <td>US</td>\n",
       "      <td>37</td>\n",
       "      <td>1701</td>\n",
       "      <td>65.000000</td>\n",
       "      <td>71</td>\n",
       "      <td>6</td>\n",
       "      <td>-0.546789</td>\n",
       "    </tr>\n",
       "    <tr>\n",
       "      <th>5</th>\n",
       "      <td>6</td>\n",
       "      <td>DOE04</td>\n",
       "      <td>JOE04</td>\n",
       "      <td>Tel Aviv</td>\n",
       "      <td>Israel</td>\n",
       "      <td>Male</td>\n",
       "      <td>Graduate</td>\n",
       "      <td>Econ</td>\n",
       "      <td>Israel</td>\n",
       "      <td>25</td>\n",
       "      <td>1786</td>\n",
       "      <td>69.000000</td>\n",
       "      <td>67</td>\n",
       "      <td>5</td>\n",
       "      <td>-0.232543</td>\n",
       "    </tr>\n",
       "    <tr>\n",
       "      <th>6</th>\n",
       "      <td>7</td>\n",
       "      <td>DOE05</td>\n",
       "      <td>JOE05</td>\n",
       "      <td>Cimax</td>\n",
       "      <td>North Carolina</td>\n",
       "      <td>Male</td>\n",
       "      <td>Graduate</td>\n",
       "      <td>Politics</td>\n",
       "      <td>US</td>\n",
       "      <td>39</td>\n",
       "      <td>1577</td>\n",
       "      <td>95.882515</td>\n",
       "      <td>70</td>\n",
       "      <td>5</td>\n",
       "      <td>-1.005220</td>\n",
       "    </tr>\n",
       "    <tr>\n",
       "      <th>7</th>\n",
       "      <td>8</td>\n",
       "      <td>DOE03</td>\n",
       "      <td>JANE03</td>\n",
       "      <td>Liberal</td>\n",
       "      <td>Kansas</td>\n",
       "      <td>Female</td>\n",
       "      <td>Undergraduate</td>\n",
       "      <td>Politics</td>\n",
       "      <td>US</td>\n",
       "      <td>21</td>\n",
       "      <td>1842</td>\n",
       "      <td>87.000000</td>\n",
       "      <td>62</td>\n",
       "      <td>5</td>\n",
       "      <td>-0.025509</td>\n",
       "    </tr>\n",
       "    <tr>\n",
       "      <th>8</th>\n",
       "      <td>9</td>\n",
       "      <td>DOE04</td>\n",
       "      <td>JANE04</td>\n",
       "      <td>Montreal</td>\n",
       "      <td>Canada</td>\n",
       "      <td>Female</td>\n",
       "      <td>Undergraduate</td>\n",
       "      <td>Math</td>\n",
       "      <td>Canada</td>\n",
       "      <td>18</td>\n",
       "      <td>1813</td>\n",
       "      <td>91.000000</td>\n",
       "      <td>62</td>\n",
       "      <td>6</td>\n",
       "      <td>-0.132723</td>\n",
       "    </tr>\n",
       "    <tr>\n",
       "      <th>9</th>\n",
       "      <td>10</td>\n",
       "      <td>DOE05</td>\n",
       "      <td>JANE05</td>\n",
       "      <td>New York</td>\n",
       "      <td>New York</td>\n",
       "      <td>Female</td>\n",
       "      <td>Graduate</td>\n",
       "      <td>Math</td>\n",
       "      <td>US</td>\n",
       "      <td>33</td>\n",
       "      <td>2041</td>\n",
       "      <td>71.000000</td>\n",
       "      <td>66</td>\n",
       "      <td>5</td>\n",
       "      <td>0.710198</td>\n",
       "    </tr>\n",
       "    <tr>\n",
       "      <th>10</th>\n",
       "      <td>11</td>\n",
       "      <td>DOE06</td>\n",
       "      <td>JOE06</td>\n",
       "      <td>Hot Coffe</td>\n",
       "      <td>Mississippi</td>\n",
       "      <td>Male</td>\n",
       "      <td>Undergraduate</td>\n",
       "      <td>Econ</td>\n",
       "      <td>US</td>\n",
       "      <td>18</td>\n",
       "      <td>1787</td>\n",
       "      <td>81.525285</td>\n",
       "      <td>67</td>\n",
       "      <td>3</td>\n",
       "      <td>-0.228846</td>\n",
       "    </tr>\n",
       "    <tr>\n",
       "      <th>11</th>\n",
       "      <td>12</td>\n",
       "      <td>DOE06</td>\n",
       "      <td>JANE06</td>\n",
       "      <td>Java</td>\n",
       "      <td>Virginia</td>\n",
       "      <td>Female</td>\n",
       "      <td>Graduate</td>\n",
       "      <td>Math</td>\n",
       "      <td>US</td>\n",
       "      <td>38</td>\n",
       "      <td>1513</td>\n",
       "      <td>78.936614</td>\n",
       "      <td>59</td>\n",
       "      <td>5</td>\n",
       "      <td>-1.241829</td>\n",
       "    </tr>\n",
       "    <tr>\n",
       "      <th>12</th>\n",
       "      <td>13</td>\n",
       "      <td>DOE07</td>\n",
       "      <td>JOE07</td>\n",
       "      <td>Varna</td>\n",
       "      <td>Bulgaria</td>\n",
       "      <td>Male</td>\n",
       "      <td>Graduate</td>\n",
       "      <td>Politics</td>\n",
       "      <td>Bulgaria</td>\n",
       "      <td>30</td>\n",
       "      <td>1637</td>\n",
       "      <td>79.337239</td>\n",
       "      <td>63</td>\n",
       "      <td>4</td>\n",
       "      <td>-0.783399</td>\n",
       "    </tr>\n",
       "    <tr>\n",
       "      <th>13</th>\n",
       "      <td>14</td>\n",
       "      <td>DOE08</td>\n",
       "      <td>JOE08</td>\n",
       "      <td>Moscow</td>\n",
       "      <td>Russia</td>\n",
       "      <td>Male</td>\n",
       "      <td>Graduate</td>\n",
       "      <td>Politics</td>\n",
       "      <td>Russia</td>\n",
       "      <td>30</td>\n",
       "      <td>1512</td>\n",
       "      <td>70.279498</td>\n",
       "      <td>75</td>\n",
       "      <td>6</td>\n",
       "      <td>-1.245526</td>\n",
       "    </tr>\n",
       "    <tr>\n",
       "      <th>14</th>\n",
       "      <td>15</td>\n",
       "      <td>DOE07</td>\n",
       "      <td>JANE07</td>\n",
       "      <td>Drunkard Creek</td>\n",
       "      <td>New York</td>\n",
       "      <td>Female</td>\n",
       "      <td>Undergraduate</td>\n",
       "      <td>Math</td>\n",
       "      <td>US</td>\n",
       "      <td>21</td>\n",
       "      <td>1338</td>\n",
       "      <td>82.385960</td>\n",
       "      <td>64</td>\n",
       "      <td>5</td>\n",
       "      <td>-1.888808</td>\n",
       "    </tr>\n",
       "    <tr>\n",
       "      <th>15</th>\n",
       "      <td>16</td>\n",
       "      <td>DOE08</td>\n",
       "      <td>JANE08</td>\n",
       "      <td>Mexican Hat</td>\n",
       "      <td>Utah</td>\n",
       "      <td>Female</td>\n",
       "      <td>Undergraduate</td>\n",
       "      <td>Econ</td>\n",
       "      <td>US</td>\n",
       "      <td>18</td>\n",
       "      <td>1821</td>\n",
       "      <td>80.000000</td>\n",
       "      <td>63</td>\n",
       "      <td>3</td>\n",
       "      <td>-0.103147</td>\n",
       "    </tr>\n",
       "    <tr>\n",
       "      <th>16</th>\n",
       "      <td>17</td>\n",
       "      <td>DOE09</td>\n",
       "      <td>JANE09</td>\n",
       "      <td>Amsterdam</td>\n",
       "      <td>Holland</td>\n",
       "      <td>Female</td>\n",
       "      <td>Undergraduate</td>\n",
       "      <td>Math</td>\n",
       "      <td>Holland</td>\n",
       "      <td>19</td>\n",
       "      <td>1494</td>\n",
       "      <td>75.000000</td>\n",
       "      <td>60</td>\n",
       "      <td>3</td>\n",
       "      <td>-1.312072</td>\n",
       "    </tr>\n",
       "    <tr>\n",
       "      <th>17</th>\n",
       "      <td>18</td>\n",
       "      <td>DOE10</td>\n",
       "      <td>JANE10</td>\n",
       "      <td>Mexico</td>\n",
       "      <td>Mexico</td>\n",
       "      <td>Female</td>\n",
       "      <td>Graduate</td>\n",
       "      <td>Politics</td>\n",
       "      <td>Mexico</td>\n",
       "      <td>31</td>\n",
       "      <td>2248</td>\n",
       "      <td>95.423560</td>\n",
       "      <td>59</td>\n",
       "      <td>4</td>\n",
       "      <td>1.475481</td>\n",
       "    </tr>\n",
       "    <tr>\n",
       "      <th>18</th>\n",
       "      <td>19</td>\n",
       "      <td>DOE11</td>\n",
       "      <td>JANE11</td>\n",
       "      <td>Caracas</td>\n",
       "      <td>Venezuela</td>\n",
       "      <td>Female</td>\n",
       "      <td>Undergraduate</td>\n",
       "      <td>Math</td>\n",
       "      <td>Venezuela</td>\n",
       "      <td>18</td>\n",
       "      <td>2252</td>\n",
       "      <td>92.000000</td>\n",
       "      <td>68</td>\n",
       "      <td>5</td>\n",
       "      <td>1.490269</td>\n",
       "    </tr>\n",
       "    <tr>\n",
       "      <th>19</th>\n",
       "      <td>20</td>\n",
       "      <td>DOE09</td>\n",
       "      <td>JOE09</td>\n",
       "      <td>San Juan</td>\n",
       "      <td>Puerto Rico</td>\n",
       "      <td>Male</td>\n",
       "      <td>Graduate</td>\n",
       "      <td>Politics</td>\n",
       "      <td>US</td>\n",
       "      <td>33</td>\n",
       "      <td>1923</td>\n",
       "      <td>95.000000</td>\n",
       "      <td>63</td>\n",
       "      <td>7</td>\n",
       "      <td>0.273949</td>\n",
       "    </tr>\n",
       "    <tr>\n",
       "      <th>20</th>\n",
       "      <td>21</td>\n",
       "      <td>DOE12</td>\n",
       "      <td>JANE12</td>\n",
       "      <td>Remote</td>\n",
       "      <td>Oregon</td>\n",
       "      <td>Female</td>\n",
       "      <td>Undergraduate</td>\n",
       "      <td>Econ</td>\n",
       "      <td>US</td>\n",
       "      <td>19</td>\n",
       "      <td>1727</td>\n",
       "      <td>67.000000</td>\n",
       "      <td>62</td>\n",
       "      <td>7</td>\n",
       "      <td>-0.450667</td>\n",
       "    </tr>\n",
       "    <tr>\n",
       "      <th>21</th>\n",
       "      <td>22</td>\n",
       "      <td>DOE10</td>\n",
       "      <td>JOE10</td>\n",
       "      <td>New York</td>\n",
       "      <td>New York</td>\n",
       "      <td>Male</td>\n",
       "      <td>Undergraduate</td>\n",
       "      <td>Econ</td>\n",
       "      <td>US</td>\n",
       "      <td>21</td>\n",
       "      <td>1872</td>\n",
       "      <td>82.000000</td>\n",
       "      <td>73</td>\n",
       "      <td>4</td>\n",
       "      <td>0.085401</td>\n",
       "    </tr>\n",
       "    <tr>\n",
       "      <th>22</th>\n",
       "      <td>23</td>\n",
       "      <td>DOE13</td>\n",
       "      <td>JANE13</td>\n",
       "      <td>The X</td>\n",
       "      <td>Massachusetts</td>\n",
       "      <td>Female</td>\n",
       "      <td>Graduate</td>\n",
       "      <td>Politics</td>\n",
       "      <td>US</td>\n",
       "      <td>25</td>\n",
       "      <td>1767</td>\n",
       "      <td>89.000000</td>\n",
       "      <td>68</td>\n",
       "      <td>6</td>\n",
       "      <td>-0.302786</td>\n",
       "    </tr>\n",
       "    <tr>\n",
       "      <th>23</th>\n",
       "      <td>24</td>\n",
       "      <td>DOE14</td>\n",
       "      <td>JANE14</td>\n",
       "      <td>Beijing</td>\n",
       "      <td>China</td>\n",
       "      <td>Female</td>\n",
       "      <td>Undergraduate</td>\n",
       "      <td>Math</td>\n",
       "      <td>China</td>\n",
       "      <td>18</td>\n",
       "      <td>1643</td>\n",
       "      <td>79.000000</td>\n",
       "      <td>65</td>\n",
       "      <td>6</td>\n",
       "      <td>-0.761216</td>\n",
       "    </tr>\n",
       "    <tr>\n",
       "      <th>24</th>\n",
       "      <td>25</td>\n",
       "      <td>DOE11</td>\n",
       "      <td>JOE11</td>\n",
       "      <td>Stockholm</td>\n",
       "      <td>Sweden</td>\n",
       "      <td>Male</td>\n",
       "      <td>Undergraduate</td>\n",
       "      <td>Politics</td>\n",
       "      <td>Sweden</td>\n",
       "      <td>19</td>\n",
       "      <td>1919</td>\n",
       "      <td>88.000000</td>\n",
       "      <td>64</td>\n",
       "      <td>4</td>\n",
       "      <td>0.259161</td>\n",
       "    </tr>\n",
       "    <tr>\n",
       "      <th>25</th>\n",
       "      <td>26</td>\n",
       "      <td>DOE12</td>\n",
       "      <td>JOE12</td>\n",
       "      <td>Embarrass</td>\n",
       "      <td>Minnesota</td>\n",
       "      <td>Male</td>\n",
       "      <td>Graduate</td>\n",
       "      <td>Econ</td>\n",
       "      <td>US</td>\n",
       "      <td>28</td>\n",
       "      <td>1434</td>\n",
       "      <td>95.835542</td>\n",
       "      <td>71</td>\n",
       "      <td>4</td>\n",
       "      <td>-1.533894</td>\n",
       "    </tr>\n",
       "    <tr>\n",
       "      <th>26</th>\n",
       "      <td>27</td>\n",
       "      <td>DOE13</td>\n",
       "      <td>JOE13</td>\n",
       "      <td>Intercourse</td>\n",
       "      <td>Pennsylvania</td>\n",
       "      <td>Male</td>\n",
       "      <td>Undergraduate</td>\n",
       "      <td>Math</td>\n",
       "      <td>US</td>\n",
       "      <td>20</td>\n",
       "      <td>2119</td>\n",
       "      <td>88.000000</td>\n",
       "      <td>71</td>\n",
       "      <td>5</td>\n",
       "      <td>0.998565</td>\n",
       "    </tr>\n",
       "    <tr>\n",
       "      <th>27</th>\n",
       "      <td>28</td>\n",
       "      <td>DOE15</td>\n",
       "      <td>JANE15</td>\n",
       "      <td>Loco</td>\n",
       "      <td>Oklahoma</td>\n",
       "      <td>Female</td>\n",
       "      <td>Undergraduate</td>\n",
       "      <td>Econ</td>\n",
       "      <td>US</td>\n",
       "      <td>20</td>\n",
       "      <td>2309</td>\n",
       "      <td>64.000000</td>\n",
       "      <td>68</td>\n",
       "      <td>6</td>\n",
       "      <td>1.700999</td>\n",
       "    </tr>\n",
       "    <tr>\n",
       "      <th>28</th>\n",
       "      <td>29</td>\n",
       "      <td>DOE14</td>\n",
       "      <td>JOE14</td>\n",
       "      <td>Buenos Aires</td>\n",
       "      <td>Argentina</td>\n",
       "      <td>Male</td>\n",
       "      <td>Graduate</td>\n",
       "      <td>Politics</td>\n",
       "      <td>Argentina</td>\n",
       "      <td>30</td>\n",
       "      <td>2279</td>\n",
       "      <td>85.000000</td>\n",
       "      <td>72</td>\n",
       "      <td>3</td>\n",
       "      <td>1.590088</td>\n",
       "    </tr>\n",
       "    <tr>\n",
       "      <th>29</th>\n",
       "      <td>30</td>\n",
       "      <td>DOE15</td>\n",
       "      <td>JOE15</td>\n",
       "      <td>Acme</td>\n",
       "      <td>Louisiana</td>\n",
       "      <td>Male</td>\n",
       "      <td>Undergraduate</td>\n",
       "      <td>Econ</td>\n",
       "      <td>US</td>\n",
       "      <td>19</td>\n",
       "      <td>1907</td>\n",
       "      <td>79.499360</td>\n",
       "      <td>74</td>\n",
       "      <td>3</td>\n",
       "      <td>0.214797</td>\n",
       "    </tr>\n",
       "  </tbody>\n",
       "</table>\n",
       "</div>"
      ],
      "text/plain": [
       "    ID Last Name First Name            City           State  Gender  \\\n",
       "0    1     DOE01     JANE01     Los Angeles      California  Female   \n",
       "1    2     DOE02     JANE02          Sedona         Arizona  Female   \n",
       "2    3     DOE01      JOE01          Elmira        New York    Male   \n",
       "3    4     DOE02      JOE02       Lackawana        New York    Male   \n",
       "4    5     DOE03      JOE03        Defiance            Ohio    Male   \n",
       "5    6     DOE04      JOE04        Tel Aviv          Israel    Male   \n",
       "6    7     DOE05      JOE05           Cimax  North Carolina    Male   \n",
       "7    8     DOE03     JANE03         Liberal          Kansas  Female   \n",
       "8    9     DOE04     JANE04        Montreal          Canada  Female   \n",
       "9   10     DOE05     JANE05        New York        New York  Female   \n",
       "10  11     DOE06      JOE06       Hot Coffe     Mississippi    Male   \n",
       "11  12     DOE06     JANE06            Java        Virginia  Female   \n",
       "12  13     DOE07      JOE07           Varna        Bulgaria    Male   \n",
       "13  14     DOE08      JOE08          Moscow          Russia    Male   \n",
       "14  15     DOE07     JANE07  Drunkard Creek        New York  Female   \n",
       "15  16     DOE08     JANE08     Mexican Hat            Utah  Female   \n",
       "16  17     DOE09     JANE09       Amsterdam         Holland  Female   \n",
       "17  18     DOE10     JANE10          Mexico          Mexico  Female   \n",
       "18  19     DOE11     JANE11         Caracas       Venezuela  Female   \n",
       "19  20     DOE09      JOE09        San Juan     Puerto Rico    Male   \n",
       "20  21     DOE12     JANE12          Remote          Oregon  Female   \n",
       "21  22     DOE10      JOE10        New York        New York    Male   \n",
       "22  23     DOE13     JANE13           The X   Massachusetts  Female   \n",
       "23  24     DOE14     JANE14         Beijing           China  Female   \n",
       "24  25     DOE11      JOE11       Stockholm          Sweden    Male   \n",
       "25  26     DOE12      JOE12       Embarrass       Minnesota    Male   \n",
       "26  27     DOE13      JOE13     Intercourse    Pennsylvania    Male   \n",
       "27  28     DOE15     JANE15            Loco        Oklahoma  Female   \n",
       "28  29     DOE14      JOE14    Buenos Aires       Argentina    Male   \n",
       "29  30     DOE15      JOE15            Acme       Louisiana    Male   \n",
       "\n",
       "   Student Status     Major    Country  Age   SAT  Average score (grade)  \\\n",
       "0        Graduate  Politics         US   30  2263              67.000000   \n",
       "1   Undergraduate      Math         US   19  2006              63.000000   \n",
       "2        Graduate      Math         US   26  2221              78.113285   \n",
       "3        Graduate      Econ         US   33  1716              77.808587   \n",
       "4        Graduate      Econ         US   37  1701              65.000000   \n",
       "5        Graduate      Econ     Israel   25  1786              69.000000   \n",
       "6        Graduate  Politics         US   39  1577              95.882515   \n",
       "7   Undergraduate  Politics         US   21  1842              87.000000   \n",
       "8   Undergraduate      Math     Canada   18  1813              91.000000   \n",
       "9        Graduate      Math         US   33  2041              71.000000   \n",
       "10  Undergraduate      Econ         US   18  1787              81.525285   \n",
       "11       Graduate      Math         US   38  1513              78.936614   \n",
       "12       Graduate  Politics   Bulgaria   30  1637              79.337239   \n",
       "13       Graduate  Politics     Russia   30  1512              70.279498   \n",
       "14  Undergraduate      Math         US   21  1338              82.385960   \n",
       "15  Undergraduate      Econ         US   18  1821              80.000000   \n",
       "16  Undergraduate      Math    Holland   19  1494              75.000000   \n",
       "17       Graduate  Politics     Mexico   31  2248              95.423560   \n",
       "18  Undergraduate      Math  Venezuela   18  2252              92.000000   \n",
       "19       Graduate  Politics         US   33  1923              95.000000   \n",
       "20  Undergraduate      Econ         US   19  1727              67.000000   \n",
       "21  Undergraduate      Econ         US   21  1872              82.000000   \n",
       "22       Graduate  Politics         US   25  1767              89.000000   \n",
       "23  Undergraduate      Math      China   18  1643              79.000000   \n",
       "24  Undergraduate  Politics     Sweden   19  1919              88.000000   \n",
       "25       Graduate      Econ         US   28  1434              95.835542   \n",
       "26  Undergraduate      Math         US   20  2119              88.000000   \n",
       "27  Undergraduate      Econ         US   20  2309              64.000000   \n",
       "28       Graduate  Politics  Argentina   30  2279              85.000000   \n",
       "29  Undergraduate      Econ         US   19  1907              79.499360   \n",
       "\n",
       "    Height (in)  Newspaper readership (times/wk)    zScore  \n",
       "0            61                                5  1.530936  \n",
       "1            64                                7  0.580802  \n",
       "2            73                                6  1.375661  \n",
       "3            68                                3 -0.491334  \n",
       "4            71                                6 -0.546789  \n",
       "5            67                                5 -0.232543  \n",
       "6            70                                5 -1.005220  \n",
       "7            62                                5 -0.025509  \n",
       "8            62                                6 -0.132723  \n",
       "9            66                                5  0.710198  \n",
       "10           67                                3 -0.228846  \n",
       "11           59                                5 -1.241829  \n",
       "12           63                                4 -0.783399  \n",
       "13           75                                6 -1.245526  \n",
       "14           64                                5 -1.888808  \n",
       "15           63                                3 -0.103147  \n",
       "16           60                                3 -1.312072  \n",
       "17           59                                4  1.475481  \n",
       "18           68                                5  1.490269  \n",
       "19           63                                7  0.273949  \n",
       "20           62                                7 -0.450667  \n",
       "21           73                                4  0.085401  \n",
       "22           68                                6 -0.302786  \n",
       "23           65                                6 -0.761216  \n",
       "24           64                                4  0.259161  \n",
       "25           71                                4 -1.533894  \n",
       "26           71                                5  0.998565  \n",
       "27           68                                6  1.700999  \n",
       "28           72                                3  1.590088  \n",
       "29           74                                3  0.214797  "
      ]
     },
     "execution_count": 7,
     "metadata": {},
     "output_type": "execute_result"
    }
   ],
   "source": [
    "df"
   ]
  },
  {
   "cell_type": "code",
   "execution_count": 8,
   "metadata": {},
   "outputs": [
    {
     "data": {
      "text/html": [
       "<div>\n",
       "<style scoped>\n",
       "    .dataframe tbody tr th:only-of-type {\n",
       "        vertical-align: middle;\n",
       "    }\n",
       "\n",
       "    .dataframe tbody tr th {\n",
       "        vertical-align: top;\n",
       "    }\n",
       "\n",
       "    .dataframe thead th {\n",
       "        text-align: right;\n",
       "    }\n",
       "</style>\n",
       "<table border=\"1\" class=\"dataframe\">\n",
       "  <thead>\n",
       "    <tr style=\"text-align: right;\">\n",
       "      <th></th>\n",
       "      <th>ID</th>\n",
       "      <th>Age</th>\n",
       "      <th>SAT</th>\n",
       "      <th>Average score (grade)</th>\n",
       "      <th>Height (in)</th>\n",
       "      <th>Newspaper readership (times/wk)</th>\n",
       "      <th>zScore</th>\n",
       "    </tr>\n",
       "  </thead>\n",
       "  <tbody>\n",
       "    <tr>\n",
       "      <th>count</th>\n",
       "      <td>30.000000</td>\n",
       "      <td>30.000000</td>\n",
       "      <td>30.000000</td>\n",
       "      <td>30.000000</td>\n",
       "      <td>30.000000</td>\n",
       "      <td>30.000000</td>\n",
       "      <td>3.000000e+01</td>\n",
       "    </tr>\n",
       "    <tr>\n",
       "      <th>mean</th>\n",
       "      <td>15.500000</td>\n",
       "      <td>25.200000</td>\n",
       "      <td>1848.900000</td>\n",
       "      <td>80.400915</td>\n",
       "      <td>66.433333</td>\n",
       "      <td>4.866667</td>\n",
       "      <td>1.036208e-16</td>\n",
       "    </tr>\n",
       "    <tr>\n",
       "      <th>std</th>\n",
       "      <td>8.803408</td>\n",
       "      <td>6.870226</td>\n",
       "      <td>275.112184</td>\n",
       "      <td>10.105944</td>\n",
       "      <td>4.658573</td>\n",
       "      <td>1.279368</td>\n",
       "      <td>1.017095e+00</td>\n",
       "    </tr>\n",
       "    <tr>\n",
       "      <th>min</th>\n",
       "      <td>1.000000</td>\n",
       "      <td>18.000000</td>\n",
       "      <td>1338.000000</td>\n",
       "      <td>63.000000</td>\n",
       "      <td>59.000000</td>\n",
       "      <td>3.000000</td>\n",
       "      <td>-1.888808e+00</td>\n",
       "    </tr>\n",
       "    <tr>\n",
       "      <th>25%</th>\n",
       "      <td>8.250000</td>\n",
       "      <td>19.000000</td>\n",
       "      <td>1657.500000</td>\n",
       "      <td>72.000000</td>\n",
       "      <td>63.000000</td>\n",
       "      <td>4.000000</td>\n",
       "      <td>-7.076096e-01</td>\n",
       "    </tr>\n",
       "    <tr>\n",
       "      <th>50%</th>\n",
       "      <td>15.500000</td>\n",
       "      <td>23.000000</td>\n",
       "      <td>1817.000000</td>\n",
       "      <td>79.749680</td>\n",
       "      <td>66.500000</td>\n",
       "      <td>5.000000</td>\n",
       "      <td>-1.179349e-01</td>\n",
       "    </tr>\n",
       "    <tr>\n",
       "      <th>75%</th>\n",
       "      <td>22.750000</td>\n",
       "      <td>30.000000</td>\n",
       "      <td>2032.250000</td>\n",
       "      <td>88.000000</td>\n",
       "      <td>70.750000</td>\n",
       "      <td>6.000000</td>\n",
       "      <td>6.778486e-01</td>\n",
       "    </tr>\n",
       "    <tr>\n",
       "      <th>max</th>\n",
       "      <td>30.000000</td>\n",
       "      <td>39.000000</td>\n",
       "      <td>2309.000000</td>\n",
       "      <td>95.882515</td>\n",
       "      <td>75.000000</td>\n",
       "      <td>7.000000</td>\n",
       "      <td>1.700999e+00</td>\n",
       "    </tr>\n",
       "  </tbody>\n",
       "</table>\n",
       "</div>"
      ],
      "text/plain": [
       "              ID        Age          SAT  Average score (grade)  Height (in)  \\\n",
       "count  30.000000  30.000000    30.000000              30.000000    30.000000   \n",
       "mean   15.500000  25.200000  1848.900000              80.400915    66.433333   \n",
       "std     8.803408   6.870226   275.112184              10.105944     4.658573   \n",
       "min     1.000000  18.000000  1338.000000              63.000000    59.000000   \n",
       "25%     8.250000  19.000000  1657.500000              72.000000    63.000000   \n",
       "50%    15.500000  23.000000  1817.000000              79.749680    66.500000   \n",
       "75%    22.750000  30.000000  2032.250000              88.000000    70.750000   \n",
       "max    30.000000  39.000000  2309.000000              95.882515    75.000000   \n",
       "\n",
       "       Newspaper readership (times/wk)        zScore  \n",
       "count                        30.000000  3.000000e+01  \n",
       "mean                          4.866667  1.036208e-16  \n",
       "std                           1.279368  1.017095e+00  \n",
       "min                           3.000000 -1.888808e+00  \n",
       "25%                           4.000000 -7.076096e-01  \n",
       "50%                           5.000000 -1.179349e-01  \n",
       "75%                           6.000000  6.778486e-01  \n",
       "max                           7.000000  1.700999e+00  "
      ]
     },
     "execution_count": 8,
     "metadata": {},
     "output_type": "execute_result"
    }
   ],
   "source": [
    "df.describe()"
   ]
  },
  {
   "cell_type": "code",
   "execution_count": 10,
   "metadata": {},
   "outputs": [],
   "source": [
    "%matplotlib inline\n",
    "import pandas as pd\n",
    "import numpy as np\n",
    "from scipy import stats\n",
    "import matplotlib.pyplot as plt\n",
    "import seaborn as sns"
   ]
  },
  {
   "cell_type": "code",
   "execution_count": 11,
   "metadata": {},
   "outputs": [
    {
     "data": {
      "text/plain": [
       "(25.2, 23.0)"
      ]
     },
     "execution_count": 11,
     "metadata": {},
     "output_type": "execute_result"
    }
   ],
   "source": [
    "Age = df['Age']\n",
    "Age.mean(), Age.median()"
   ]
  },
  {
   "cell_type": "code",
   "execution_count": 13,
   "metadata": {},
   "outputs": [
    {
     "data": {
      "text/plain": [
       "(6.870225614927067, 47.199999999999996)"
      ]
     },
     "execution_count": 13,
     "metadata": {},
     "output_type": "execute_result"
    }
   ],
   "source": [
    "Age.std(), Age.var()"
   ]
  },
  {
   "cell_type": "code",
   "execution_count": 14,
   "metadata": {},
   "outputs": [
    {
     "name": "stderr",
     "output_type": "stream",
     "text": [
      "/Users/sumit/opt/anaconda3/lib/python3.8/site-packages/seaborn/distributions.py:2551: FutureWarning: `distplot` is a deprecated function and will be removed in a future version. Please adapt your code to use either `displot` (a figure-level function with similar flexibility) or `histplot` (an axes-level function for histograms).\n",
      "  warnings.warn(msg, FutureWarning)\n"
     ]
    },
    {
     "data": {
      "text/plain": [
       "<AxesSubplot:xlabel='Age', ylabel='Density'>"
      ]
     },
     "execution_count": 14,
     "metadata": {},
     "output_type": "execute_result"
    },
    {
     "data": {
      "image/png": "[encoded data removed]",
      "text/plain": [
       "<Figure size 432x288 with 1 Axes>"
      ]
     },
     "metadata": {
      "needs_background": "light"
     },
     "output_type": "display_data"
    }
   ],
   "source": [
    "\n",
    "Age = Age.fillna(Age.mean())\n",
    "sns.distplot(Age)"
   ]
  },
  {
   "cell_type": "code",
   "execution_count": 15,
   "metadata": {},
   "outputs": [
    {
     "data": {
      "text/plain": [
       "NormaltestResult(statistic=5.133864880938665, pvalue=0.07677068323093629)"
      ]
     },
     "execution_count": 15,
     "metadata": {},
     "output_type": "execute_result"
    }
   ],
   "source": [
    "\n",
    "stats.normaltest(Age)"
   ]
  },
  {
   "cell_type": "code",
   "execution_count": 16,
   "metadata": {},
   "outputs": [],
   "source": [
    "def pvalue(z):\n",
    "    return 1 - 2 * (1 - stats.norm.cdf(z))"
   ]
  },
  {
   "cell_type": "code",
   "execution_count": 17,
   "metadata": {},
   "outputs": [],
   "source": [
    "\n",
    "def zscore(frac):\n",
    "    return stats.norm.ppf(0.5 + frac/2)"
   ]
  },
  {
   "cell_type": "code",
   "execution_count": 18,
   "metadata": {},
   "outputs": [
    {
     "data": {
      "text/plain": [
       "(0.6744897501960817, 0.9944578832097535, 2.5758293035489004)"
      ]
     },
     "execution_count": 18,
     "metadata": {},
     "output_type": "execute_result"
    }
   ],
   "source": [
    "zscore(0.50), zscore(0.68), zscore(0.99)"
   ]
  },
  {
   "cell_type": "code",
   "execution_count": null,
   "metadata": {},
   "outputs": [],
   "source": []
  },
  {
   "cell_type": "markdown",
   "metadata": {},
   "source": [
    "The z-score and p-value are central to almost every statistical inference tool and hypothesis testing methods. The Z-score is measure of how many standard deviations away from the mean, a particular sample point is. The p-value gives us the probability that of getting a z-score less than or equal to the given z-score and in a sense, is a measure of the number of sample points that have a z-score less than or equal to the corresponding value of z.\n",
    "\n",
    "The Scipy package gives us two very useful functions to get the p-value for a given z-score and vice versa. The code below tries to calculate the number of sample points that fall within one, two and three standard deviations from the mean."
   ]
  },
  {
   "cell_type": "code",
   "execution_count": 19,
   "metadata": {},
   "outputs": [],
   "source": [
    "\n",
    "h0_mean = 65"
   ]
  },
  {
   "cell_type": "code",
   "execution_count": 24,
   "metadata": {},
   "outputs": [
    {
     "data": {
      "text/plain": [
       "66.43333333333334"
      ]
     },
     "execution_count": 24,
     "metadata": {},
     "output_type": "execute_result"
    }
   ],
   "source": [
    "h1_mean = df['Height (in)'].mean()\n",
    "h1_mean"
   ]
  },
  {
   "cell_type": "code",
   "execution_count": 26,
   "metadata": {},
   "outputs": [
    {
     "data": {
      "text/plain": [
       "0.8505351031473211"
      ]
     },
     "execution_count": 26,
     "metadata": {},
     "output_type": "execute_result"
    }
   ],
   "source": [
    "sigma = df['Height (in)'].std()/np.sqrt(len(df))\n",
    "sigma"
   ]
  },
  {
   "cell_type": "code",
   "execution_count": null,
   "metadata": {},
   "outputs": [],
   "source": []
  },
  {
   "cell_type": "code",
   "execution_count": 27,
   "metadata": {},
   "outputs": [
    {
     "data": {
      "text/plain": [
       "1.6852136120301546"
      ]
     },
     "execution_count": 27,
     "metadata": {},
     "output_type": "execute_result"
    }
   ],
   "source": [
    "z = (h1_mean - h0_mean)/sigma\n",
    "z"
   ]
  },
  {
   "cell_type": "code",
   "execution_count": 28,
   "metadata": {},
   "outputs": [
    {
     "data": {
      "text/plain": [
       "0.09194736575948803"
      ]
     },
     "execution_count": 28,
     "metadata": {},
     "output_type": "execute_result"
    }
   ],
   "source": [
    "p_val = (1 - stats.norm.cdf(abs(z))) * 2\n",
    "p_val"
   ]
  },
  {
   "cell_type": "markdown",
   "metadata": {},
   "source": [
    "\n",
    "Hypothesis Testing\n",
    "One Sample Significance Test for Mean is extremely similar to that for Proportion. We will go through almost an identical process.\n",
    "\n",
    "The hypotheses are defined as follows:\n",
    "\n",
    "Null Hypothesis: The average height of students is 65 in..\n",
    "Alternate Hypothesis: The average height of an students is not 65 in.\n",
    "Significance Level, $\\alpha$ is at 0.05. Assuming Null Hypothesis to be true."
   ]
  },
  {
   "cell_type": "markdown",
   "metadata": {},
   "source": [
    "The p value obtained is greater than the significance level $\\alpha$. We therefore accept the null hypothesis and accept the alternate hypothesis (the negation). We can therefore arrive at the following conclusion from this analysis:\n",
    "\n",
    "The average height of students is 65 in."
   ]
  },
  {
   "cell_type": "code",
   "execution_count": 43,
   "metadata": {},
   "outputs": [
    {
     "data": {
      "text/plain": [
       "<AxesSubplot:>"
      ]
     },
     "execution_count": 43,
     "metadata": {},
     "output_type": "execute_result"
    },
    {
     "data": {
      "image/png": "[encoded data removed]",
      "text/plain": [
       "<Figure size 432x288 with 1 Axes>"
      ]
     },
     "metadata": {
      "needs_background": "light"
     },
     "output_type": "display_data"
    }
   ],
   "source": [
    "df.boxplot(column='SAT',vert=False)"
   ]
  },
  {
   "cell_type": "code",
   "execution_count": 30,
   "metadata": {},
   "outputs": [
    {
     "data": {
      "text/plain": [
       "<AxesSubplot:>"
      ]
     },
     "execution_count": 30,
     "metadata": {},
     "output_type": "execute_result"
    },
    {
     "data": {
      "image/png": "[encoded data removed]",
      "text/plain": [
       "<Figure size 432x288 with 1 Axes>"
      ]
     },
     "metadata": {
      "needs_background": "light"
     },
     "output_type": "display_data"
    }
   ],
   "source": [
    "df.boxplot(column='Height (in)',vert=False)"
   ]
  },
  {
   "cell_type": "code",
   "execution_count": 31,
   "metadata": {},
   "outputs": [
    {
     "data": {
      "text/plain": [
       "<AxesSubplot:>"
      ]
     },
     "execution_count": 31,
     "metadata": {},
     "output_type": "execute_result"
    },
    {
     "data": {
      "image/png": "[encoded data removed]",
      "text/plain": [
       "<Figure size 432x288 with 1 Axes>"
      ]
     },
     "metadata": {
      "needs_background": "light"
     },
     "output_type": "display_data"
    }
   ],
   "source": [
    "df.boxplot(column='Age',vert=False)"
   ]
  },
  {
   "cell_type": "markdown",
   "metadata": {},
   "source": [
    "We can see the Age variable has a outlier with age of 39. Most of the age is concentrated near 23"
   ]
  },
  {
   "cell_type": "code",
   "execution_count": 33,
   "metadata": {},
   "outputs": [
    {
     "data": {
      "text/plain": [
       "<seaborn.axisgrid.PairGrid at 0x7fac2ab4d040>"
      ]
     },
     "execution_count": 33,
     "metadata": {},
     "output_type": "execute_result"
    },
    {
     "data": {
      "image/png": "[encoded data removed]",
      "text/plain": [
       "<Figure size 1260x1260 with 56 Axes>"
      ]
     },
     "metadata": {
      "needs_background": "light"
     },
     "output_type": "display_data"
    }
   ],
   "source": [
    "\n",
    "sns.pairplot(df)"
   ]
  },
  {
   "cell_type": "code",
   "execution_count": 35,
   "metadata": {},
   "outputs": [
    {
     "name": "stderr",
     "output_type": "stream",
     "text": [
      "/Users/sumit/opt/anaconda3/lib/python3.8/site-packages/seaborn/distributions.py:2551: FutureWarning: `distplot` is a deprecated function and will be removed in a future version. Please adapt your code to use either `displot` (a figure-level function with similar flexibility) or `histplot` (an axes-level function for histograms).\n",
      "  warnings.warn(msg, FutureWarning)\n"
     ]
    },
    {
     "data": {
      "image/png": "[encoded data removed]",
      "text/plain": [
       "<Figure size 432x288 with 1 Axes>"
      ]
     },
     "metadata": {
      "needs_background": "light"
     },
     "output_type": "display_data"
    }
   ],
   "source": [
    "sns.distplot(df['Age'],bins=20)\n",
    "plt.title('probability distribution')\n",
    "plt.show()"
   ]
  },
  {
   "cell_type": "code",
   "execution_count": 44,
   "metadata": {},
   "outputs": [
    {
     "name": "stderr",
     "output_type": "stream",
     "text": [
      "/Users/sumit/opt/anaconda3/lib/python3.8/site-packages/seaborn/distributions.py:2551: FutureWarning: `distplot` is a deprecated function and will be removed in a future version. Please adapt your code to use either `displot` (a figure-level function with similar flexibility) or `histplot` (an axes-level function for histograms).\n",
      "  warnings.warn(msg, FutureWarning)\n"
     ]
    },
    {
     "data": {
      "image/png": "[encoded data removed]",
      "text/plain": [
       "<Figure size 432x288 with 1 Axes>"
      ]
     },
     "metadata": {
      "needs_background": "light"
     },
     "output_type": "display_data"
    }
   ],
   "source": [
    "sns.distplot(df['SAT'],bins=20)\n",
    "plt.title('probability distribution')\n",
    "plt.show()"
   ]
  },
  {
   "cell_type": "code",
   "execution_count": 36,
   "metadata": {},
   "outputs": [
    {
     "data": {
      "text/html": [
       "<div>\n",
       "<style scoped>\n",
       "    .dataframe tbody tr th:only-of-type {\n",
       "        vertical-align: middle;\n",
       "    }\n",
       "\n",
       "    .dataframe tbody tr th {\n",
       "        vertical-align: top;\n",
       "    }\n",
       "\n",
       "    .dataframe thead th {\n",
       "        text-align: right;\n",
       "    }\n",
       "</style>\n",
       "<table border=\"1\" class=\"dataframe\">\n",
       "  <thead>\n",
       "    <tr style=\"text-align: right;\">\n",
       "      <th></th>\n",
       "      <th>ID</th>\n",
       "      <th>Age</th>\n",
       "      <th>SAT</th>\n",
       "      <th>Average score (grade)</th>\n",
       "      <th>Height (in)</th>\n",
       "      <th>Newspaper readership (times/wk)</th>\n",
       "      <th>zScore</th>\n",
       "    </tr>\n",
       "  </thead>\n",
       "  <tbody>\n",
       "    <tr>\n",
       "      <th>ID</th>\n",
       "      <td>1.000000</td>\n",
       "      <td>-0.348354</td>\n",
       "      <td>0.089890</td>\n",
       "      <td>0.335949</td>\n",
       "      <td>0.229121</td>\n",
       "      <td>-0.195946</td>\n",
       "      <td>0.089890</td>\n",
       "    </tr>\n",
       "    <tr>\n",
       "      <th>Age</th>\n",
       "      <td>-0.348354</td>\n",
       "      <td>1.000000</td>\n",
       "      <td>-0.126001</td>\n",
       "      <td>0.048485</td>\n",
       "      <td>0.066153</td>\n",
       "      <td>0.054140</td>\n",
       "      <td>-0.126001</td>\n",
       "    </tr>\n",
       "    <tr>\n",
       "      <th>SAT</th>\n",
       "      <td>0.089890</td>\n",
       "      <td>-0.126001</td>\n",
       "      <td>1.000000</td>\n",
       "      <td>-0.045843</td>\n",
       "      <td>0.079271</td>\n",
       "      <td>0.054433</td>\n",
       "      <td>1.000000</td>\n",
       "    </tr>\n",
       "    <tr>\n",
       "      <th>Average score (grade)</th>\n",
       "      <td>0.335949</td>\n",
       "      <td>0.048485</td>\n",
       "      <td>-0.045843</td>\n",
       "      <td>1.000000</td>\n",
       "      <td>-0.011985</td>\n",
       "      <td>-0.240744</td>\n",
       "      <td>-0.045843</td>\n",
       "    </tr>\n",
       "    <tr>\n",
       "      <th>Height (in)</th>\n",
       "      <td>0.229121</td>\n",
       "      <td>0.066153</td>\n",
       "      <td>0.079271</td>\n",
       "      <td>-0.011985</td>\n",
       "      <td>1.000000</td>\n",
       "      <td>-0.070971</td>\n",
       "      <td>0.079271</td>\n",
       "    </tr>\n",
       "    <tr>\n",
       "      <th>Newspaper readership (times/wk)</th>\n",
       "      <td>-0.195946</td>\n",
       "      <td>0.054140</td>\n",
       "      <td>0.054433</td>\n",
       "      <td>-0.240744</td>\n",
       "      <td>-0.070971</td>\n",
       "      <td>1.000000</td>\n",
       "      <td>0.054433</td>\n",
       "    </tr>\n",
       "    <tr>\n",
       "      <th>zScore</th>\n",
       "      <td>0.089890</td>\n",
       "      <td>-0.126001</td>\n",
       "      <td>1.000000</td>\n",
       "      <td>-0.045843</td>\n",
       "      <td>0.079271</td>\n",
       "      <td>0.054433</td>\n",
       "      <td>1.000000</td>\n",
       "    </tr>\n",
       "  </tbody>\n",
       "</table>\n",
       "</div>"
      ],
      "text/plain": [
       "                                       ID       Age       SAT  \\\n",
       "ID                               1.000000 -0.348354  0.089890   \n",
       "Age                             -0.348354  1.000000 -0.126001   \n",
       "SAT                              0.089890 -0.126001  1.000000   \n",
       "Average score (grade)            0.335949  0.048485 -0.045843   \n",
       "Height (in)                      0.229121  0.066153  0.079271   \n",
       "Newspaper readership (times/wk) -0.195946  0.054140  0.054433   \n",
       "zScore                           0.089890 -0.126001  1.000000   \n",
       "\n",
       "                                 Average score (grade)  Height (in)  \\\n",
       "ID                                            0.335949     0.229121   \n",
       "Age                                           0.048485     0.066153   \n",
       "SAT                                          -0.045843     0.079271   \n",
       "Average score (grade)                         1.000000    -0.011985   \n",
       "Height (in)                                  -0.011985     1.000000   \n",
       "Newspaper readership (times/wk)              -0.240744    -0.070971   \n",
       "zScore                                       -0.045843     0.079271   \n",
       "\n",
       "                                 Newspaper readership (times/wk)    zScore  \n",
       "ID                                                     -0.195946  0.089890  \n",
       "Age                                                     0.054140 -0.126001  \n",
       "SAT                                                     0.054433  1.000000  \n",
       "Average score (grade)                                  -0.240744 -0.045843  \n",
       "Height (in)                                            -0.070971  0.079271  \n",
       "Newspaper readership (times/wk)                         1.000000  0.054433  \n",
       "zScore                                                  0.054433  1.000000  "
      ]
     },
     "execution_count": 36,
     "metadata": {},
     "output_type": "execute_result"
    }
   ],
   "source": [
    "df.corr()"
   ]
  },
  {
   "cell_type": "code",
   "execution_count": 37,
   "metadata": {},
   "outputs": [
    {
     "data": {
      "text/plain": [
       "Text(0.5, 1.0, 'correlation coefficients')"
      ]
     },
     "execution_count": 37,
     "metadata": {},
     "output_type": "execute_result"
    },
    {
     "data": {
      "image/png": "[encoded data removed]",
      "text/plain": [
       "<Figure size 1800x1800 with 2 Axes>"
      ]
     },
     "metadata": {
      "needs_background": "light"
     },
     "output_type": "display_data"
    }
   ],
   "source": [
    "\n",
    "plt.figure(figsize=(25,25))\n",
    "sns.heatmap(df.corr(), annot=True, annot_kws={'size': 12})\n",
    "plt.title('correlation coefficients')"
   ]
  },
  {
   "cell_type": "markdown",
   "metadata": {},
   "source": [
    "The more the SAT score, the more is zscore. "
   ]
  },
  {
   "cell_type": "code",
   "execution_count": 38,
   "metadata": {},
   "outputs": [],
   "source": [
    "h0_mean = 1750\n"
   ]
  },
  {
   "cell_type": "code",
   "execution_count": 39,
   "metadata": {},
   "outputs": [
    {
     "data": {
      "text/plain": [
       "1848.9"
      ]
     },
     "execution_count": 39,
     "metadata": {},
     "output_type": "execute_result"
    }
   ],
   "source": [
    "h1_mean = df['SAT'].mean()\n",
    "h1_mean"
   ]
  },
  {
   "cell_type": "code",
   "execution_count": 40,
   "metadata": {},
   "outputs": [
    {
     "data": {
      "text/plain": [
       "50.22838300970991"
      ]
     },
     "execution_count": 40,
     "metadata": {},
     "output_type": "execute_result"
    }
   ],
   "source": [
    "sigma = df['SAT'].std()/np.sqrt(len(df))\n",
    "sigma"
   ]
  },
  {
   "cell_type": "code",
   "execution_count": 41,
   "metadata": {},
   "outputs": [
    {
     "data": {
      "text/plain": [
       "1.9690062485364346"
      ]
     },
     "execution_count": 41,
     "metadata": {},
     "output_type": "execute_result"
    }
   ],
   "source": [
    "z = (h1_mean - h0_mean)/sigma\n",
    "z"
   ]
  },
  {
   "cell_type": "code",
   "execution_count": 42,
   "metadata": {},
   "outputs": [
    {
     "data": {
      "text/plain": [
       "0.04895237354476567"
      ]
     },
     "execution_count": 42,
     "metadata": {},
     "output_type": "execute_result"
    }
   ],
   "source": [
    "p_val = (1 - stats.norm.cdf(abs(z))) * 2\n",
    "p_val"
   ]
  },
  {
   "cell_type": "markdown",
   "metadata": {},
   "source": [
    "Hypothesis Testing One Sample Significance Test for Mean is extremely similar to that for Proportion. We will go through almost an identical process.\n",
    "\n",
    "The hypotheses are defined as follows:\n",
    "\n",
    "Null Hypothesis: The average SAT score of students is 1750. \n",
    "\n",
    "Alternate Hypothesis: The average SAT score of an students is not 1750. Significance Level, 𝛼 is at 0.05. Assuming Null Hypothesis to be true.\n",
    "\n",
    "The p value obtained is less than the significance level  𝛼 . We therefore reject the null hypothesis and accept the alternate hypothesis (the negation). We can therefore arrive at the following conclusion from this analysis:\n",
    "\n",
    "The average SAT score of students is not 1750."
   ]
  },
  {
   "cell_type": "markdown",
   "metadata": {},
   "source": [
    "Business iMPLICATIONS:\n",
    "    \n",
    "Students entring this university does not have a average SAT score of 1750. Instead they have wide range of SAT scores.\n",
    "There are other parameters that college decide for accpeting students in the college whichc is not specified in the dataset\n",
    "\n",
    "\n",
    "Annything unsusal:\n",
    "The dataset should have provided other details like undergrad score and overall profile of the students  \n"
   ]
  },
  {
   "cell_type": "markdown",
   "metadata": {},
   "source": [
    "Age variable is right skewed"
   ]
  },
  {
   "cell_type": "markdown",
   "metadata": {},
   "source": [
    "SAT score distribution has 2 humps. In real life we dont get a standadizes distribution. Real life example has multiple humps in the dataset"
   ]
  }
 ],
 "metadata": {
  "kernelspec": {
   "display_name": "Python 3",
   "language": "python",
   "name": "python3"
  },
  "language_info": {
   "codemirror_mode": {
    "name": "ipython",
    "version": 3
   },
   "file_extension": ".py",
   "mimetype": "text/x-python",
   "name": "python",
   "nbconvert_exporter": "python",
   "pygments_lexer": "ipython3",
   "version": "3.8.5"
  }
 },
 "nbformat": 4,
 "nbformat_minor": 4
}

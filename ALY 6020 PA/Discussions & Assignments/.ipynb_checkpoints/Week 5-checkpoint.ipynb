{
 "cells": [
  {
   "cell_type": "code",
   "execution_count": 1,
   "metadata": {},
   "outputs": [],
   "source": [
    "import numpy as np\n",
    "import pandas as pd\n",
    "import seaborn as sns\n",
    "import matplotlib.pyplot as plt\n",
    "%matplotlib inline\n",
    "from collections import Counter\n",
    "import time\n",
    "from datetime import datetime\n",
    "from sklearn.ensemble import RandomForestClassifier, GradientBoostingClassifier\n",
    "from sklearn.neighbors import KNeighborsClassifier\n",
    "from sklearn.model_selection import GridSearchCV, cross_val_score, StratifiedKFold, learning_curve, train_test_split, KFold\n",
    "from sklearn.metrics import roc_curve, accuracy_score, precision_score, mean_squared_error, confusion_matrix, classification_report, roc_auc_score, plot_confusion_matrix\n",
    "from sklearn.feature_selection import RFE, SelectPercentile, f_classif, VarianceThreshold\n",
    "from sklearn.pipeline import Pipeline, FeatureUnion\n",
    "from sklearn.linear_model import LinearRegression, LogisticRegression\n",
    "import statsmodels.api as sm\n",
    "import statsmodels.formula.api as smf\n",
    "from sklearn import metrics\n",
    "from scipy import stats\n",
    "from scipy.stats import norm\n",
    "import warnings\n",
    "warnings.filterwarnings('ignore')\n",
    "from sklearn.preprocessing import StandardScaler, OneHotEncoder, LabelEncoder, PolynomialFeatures\n",
    "from sklearn.compose import ColumnTransformer\n",
    "from sklearn.feature_selection import RFE, SelectFromModel\n",
    "import xgboost as xgb\n",
    "from sklearn.tree import DecisionTreeClassifier\n",
    "from sklearn import tree\n",
    "from sklearn import preprocessing\n",
    "le = preprocessing.LabelEncoder()\n",
    "from sklearn.neural_network import MLPClassifier"
   ]
  },
  {
   "cell_type": "code",
   "execution_count": 2,
   "metadata": {},
   "outputs": [],
   "source": [
    "df = pd.read_csv(\"Employee.csv\")"
   ]
  },
  {
   "cell_type": "code",
   "execution_count": 3,
   "metadata": {},
   "outputs": [
    {
     "data": {
      "text/html": [
       "<div>\n",
       "<style scoped>\n",
       "    .dataframe tbody tr th:only-of-type {\n",
       "        vertical-align: middle;\n",
       "    }\n",
       "\n",
       "    .dataframe tbody tr th {\n",
       "        vertical-align: top;\n",
       "    }\n",
       "\n",
       "    .dataframe thead th {\n",
       "        text-align: right;\n",
       "    }\n",
       "</style>\n",
       "<table border=\"1\" class=\"dataframe\">\n",
       "  <thead>\n",
       "    <tr style=\"text-align: right;\">\n",
       "      <th></th>\n",
       "      <th>Education</th>\n",
       "      <th>JoiningYear</th>\n",
       "      <th>City</th>\n",
       "      <th>PaymentTier</th>\n",
       "      <th>Age</th>\n",
       "      <th>Gender</th>\n",
       "      <th>EverBenched</th>\n",
       "      <th>ExperienceInCurrentDomain</th>\n",
       "      <th>LeaveOrNot</th>\n",
       "    </tr>\n",
       "  </thead>\n",
       "  <tbody>\n",
       "    <tr>\n",
       "      <th>0</th>\n",
       "      <td>Bachelors</td>\n",
       "      <td>2017</td>\n",
       "      <td>Bangalore</td>\n",
       "      <td>3</td>\n",
       "      <td>34</td>\n",
       "      <td>Male</td>\n",
       "      <td>No</td>\n",
       "      <td>0</td>\n",
       "      <td>0</td>\n",
       "    </tr>\n",
       "    <tr>\n",
       "      <th>1</th>\n",
       "      <td>Bachelors</td>\n",
       "      <td>2013</td>\n",
       "      <td>Pune</td>\n",
       "      <td>1</td>\n",
       "      <td>28</td>\n",
       "      <td>Female</td>\n",
       "      <td>No</td>\n",
       "      <td>3</td>\n",
       "      <td>1</td>\n",
       "    </tr>\n",
       "    <tr>\n",
       "      <th>2</th>\n",
       "      <td>Bachelors</td>\n",
       "      <td>2014</td>\n",
       "      <td>New Delhi</td>\n",
       "      <td>3</td>\n",
       "      <td>38</td>\n",
       "      <td>Female</td>\n",
       "      <td>No</td>\n",
       "      <td>2</td>\n",
       "      <td>0</td>\n",
       "    </tr>\n",
       "    <tr>\n",
       "      <th>3</th>\n",
       "      <td>Masters</td>\n",
       "      <td>2016</td>\n",
       "      <td>Bangalore</td>\n",
       "      <td>3</td>\n",
       "      <td>27</td>\n",
       "      <td>Male</td>\n",
       "      <td>No</td>\n",
       "      <td>5</td>\n",
       "      <td>1</td>\n",
       "    </tr>\n",
       "    <tr>\n",
       "      <th>4</th>\n",
       "      <td>Masters</td>\n",
       "      <td>2017</td>\n",
       "      <td>Pune</td>\n",
       "      <td>3</td>\n",
       "      <td>24</td>\n",
       "      <td>Male</td>\n",
       "      <td>Yes</td>\n",
       "      <td>2</td>\n",
       "      <td>1</td>\n",
       "    </tr>\n",
       "  </tbody>\n",
       "</table>\n",
       "</div>"
      ],
      "text/plain": [
       "   Education  JoiningYear       City  PaymentTier  Age  Gender EverBenched  \\\n",
       "0  Bachelors         2017  Bangalore            3   34    Male          No   \n",
       "1  Bachelors         2013       Pune            1   28  Female          No   \n",
       "2  Bachelors         2014  New Delhi            3   38  Female          No   \n",
       "3    Masters         2016  Bangalore            3   27    Male          No   \n",
       "4    Masters         2017       Pune            3   24    Male         Yes   \n",
       "\n",
       "   ExperienceInCurrentDomain  LeaveOrNot  \n",
       "0                          0           0  \n",
       "1                          3           1  \n",
       "2                          2           0  \n",
       "3                          5           1  \n",
       "4                          2           1  "
      ]
     },
     "execution_count": 3,
     "metadata": {},
     "output_type": "execute_result"
    }
   ],
   "source": [
    "df.head()"
   ]
  },
  {
   "cell_type": "code",
   "execution_count": 4,
   "metadata": {},
   "outputs": [
    {
     "data": {
      "text/plain": [
       "(4653, 9)"
      ]
     },
     "execution_count": 4,
     "metadata": {},
     "output_type": "execute_result"
    }
   ],
   "source": [
    "df.shape"
   ]
  },
  {
   "cell_type": "code",
   "execution_count": 5,
   "metadata": {},
   "outputs": [
    {
     "data": {
      "text/plain": [
       "LeaveOrNot                   0\n",
       "ExperienceInCurrentDomain    0\n",
       "EverBenched                  0\n",
       "Gender                       0\n",
       "Age                          0\n",
       "PaymentTier                  0\n",
       "City                         0\n",
       "JoiningYear                  0\n",
       "Education                    0\n",
       "dtype: int64"
      ]
     },
     "execution_count": 5,
     "metadata": {},
     "output_type": "execute_result"
    }
   ],
   "source": [
    "df.isnull().sum().sort_values(ascending=False)"
   ]
  },
  {
   "cell_type": "code",
   "execution_count": 6,
   "metadata": {},
   "outputs": [
    {
     "data": {
      "text/plain": [
       "LeaveOrNot                   0\n",
       "ExperienceInCurrentDomain    0\n",
       "EverBenched                  0\n",
       "Gender                       0\n",
       "Age                          0\n",
       "PaymentTier                  0\n",
       "City                         0\n",
       "JoiningYear                  0\n",
       "Education                    0\n",
       "dtype: int64"
      ]
     },
     "execution_count": 6,
     "metadata": {},
     "output_type": "execute_result"
    }
   ],
   "source": [
    "df.isna().sum().sort_values(ascending=False)"
   ]
  },
  {
   "cell_type": "code",
   "execution_count": 7,
   "metadata": {},
   "outputs": [],
   "source": [
    "df['Education'] = le.fit_transform(df['Education'])\n",
    "df['City'] = le.fit_transform(df['City'])\n",
    "df['Gender'] = le.fit_transform(df['Gender'])\n",
    "df['EverBenched'] = le.fit_transform(df['EverBenched'])"
   ]
  },
  {
   "cell_type": "code",
   "execution_count": 8,
   "metadata": {},
   "outputs": [
    {
     "data": {
      "text/plain": [
       "Education                    int32\n",
       "JoiningYear                  int64\n",
       "City                         int32\n",
       "PaymentTier                  int64\n",
       "Age                          int64\n",
       "Gender                       int32\n",
       "EverBenched                  int32\n",
       "ExperienceInCurrentDomain    int64\n",
       "LeaveOrNot                   int64\n",
       "dtype: object"
      ]
     },
     "execution_count": 8,
     "metadata": {},
     "output_type": "execute_result"
    }
   ],
   "source": [
    "df.dtypes"
   ]
  },
  {
   "cell_type": "code",
   "execution_count": 9,
   "metadata": {},
   "outputs": [
    {
     "data": {
      "image/png": "[encoded data removed]",
      "text/plain": [
       "<Figure size 1296x504 with 2 Axes>"
      ]
     },
     "metadata": {
      "needs_background": "light"
     },
     "output_type": "display_data"
    }
   ],
   "source": [
    "corr = df.corr()\n",
    "plt.figure(figsize=(18,7))\n",
    "sns.heatmap(corr, annot = True)\n",
    "plt.show()"
   ]
  },
  {
   "cell_type": "code",
   "execution_count": 10,
   "metadata": {},
   "outputs": [],
   "source": [
    "y = df['LeaveOrNot']\n",
    "X = df.drop('LeaveOrNot', axis = 1)"
   ]
  },
  {
   "cell_type": "code",
   "execution_count": 11,
   "metadata": {},
   "outputs": [],
   "source": [
    "X_train,X_test,y_train,y_test=train_test_split(X,y,test_size=0.2,random_state=10086)"
   ]
  },
  {
   "cell_type": "code",
   "execution_count": 12,
   "metadata": {},
   "outputs": [
    {
     "name": "stdout",
     "output_type": "stream",
     "text": [
      "Speed: 0:00:00.324734\n",
      "Accuracy: 0.7089151450053706\n",
      "Confusion Matrix:\n",
      "     0    1\n",
      "0  551   62\n",
      "1  209  109\n",
      "Classification Report:\n",
      "              precision    recall  f1-score   support\n",
      "\n",
      "           0       0.72      0.90      0.80       613\n",
      "           1       0.64      0.34      0.45       318\n",
      "\n",
      "    accuracy                           0.71       931\n",
      "   macro avg       0.68      0.62      0.62       931\n",
      "weighted avg       0.70      0.71      0.68       931\n",
      "\n"
     ]
    }
   ],
   "source": [
    "# LR\n",
    "\n",
    "LRstart_time = datetime.now()\n",
    "logRegModel = LogisticRegression(random_state=5, solver='liblinear').fit(X_train, y_train)\n",
    "logRegModel.score(X_train, y_train)\n",
    "y_predict = logRegModel.predict(X_test)\n",
    "lrcm = confusion_matrix(y_test,y_predict)\n",
    "\n",
    "print('Speed:', datetime.now() - LRstart_time)\n",
    "print(\"Accuracy:\",metrics.accuracy_score(y_test, y_predict))\n",
    "print('Confusion Matrix:')\n",
    "print(pd.DataFrame(lrcm))\n",
    "print(\"Classification Report:\")\n",
    "print(classification_report(y_test, y_predict))"
   ]
  },
  {
   "cell_type": "code",
   "execution_count": 13,
   "metadata": {},
   "outputs": [
    {
     "name": "stdout",
     "output_type": "stream",
     "text": [
      "Optimization terminated successfully.\n",
      "         Current function value: 0.596391\n",
      "         Iterations 5\n",
      "                           Logit Regression Results                           \n",
      "==============================================================================\n",
      "Dep. Variable:             LeaveOrNot   No. Observations:                 3722\n",
      "Model:                          Logit   Df Residuals:                     3714\n",
      "Method:                           MLE   Df Model:                            7\n",
      "Date:                Sat, 11 Dec 2021   Pseudo R-squ.:                 0.07384\n",
      "Time:                        18:05:23   Log-Likelihood:                -2219.8\n",
      "converged:                       True   LL-Null:                       -2396.7\n",
      "Covariance Type:            nonrobust   LLR p-value:                 1.780e-72\n",
      "=============================================================================================\n",
      "                                coef    std err          z      P>|z|      [0.025      0.975]\n",
      "---------------------------------------------------------------------------------------------\n",
      "Education                     0.2102      0.067      3.117      0.002       0.078       0.342\n",
      "JoiningYear                   0.0006      0.000      3.925      0.000       0.000       0.001\n",
      "City                          0.3361      0.045      7.488      0.000       0.248       0.424\n",
      "PaymentTier                  -0.4333      0.065     -6.656      0.000      -0.561      -0.306\n",
      "Age                          -0.0210      0.008     -2.714      0.007      -0.036      -0.006\n",
      "Gender                       -0.7227      0.075     -9.687      0.000      -0.869      -0.576\n",
      "EverBenched                   0.6146      0.115      5.348      0.000       0.389       0.840\n",
      "ExperienceInCurrentDomain    -0.0321      0.024     -1.355      0.175      -0.078       0.014\n",
      "=============================================================================================\n"
     ]
    }
   ],
   "source": [
    "logit_model = sm.Logit(y_train, X_train)\n",
    "result = logit_model.fit()\n",
    "print(result.summary())"
   ]
  },
  {
   "cell_type": "code",
   "execution_count": 14,
   "metadata": {},
   "outputs": [
    {
     "name": "stdout",
     "output_type": "stream",
     "text": [
      "Speed: 0:00:00.181227\n",
      "Accuracy: 0.8378088077336198\n",
      "Confusion Matrix:\n",
      "     0    1\n",
      "0  561   52\n",
      "1   99  219\n",
      "Classification Report:\n",
      "              precision    recall  f1-score   support\n",
      "\n",
      "           0       0.85      0.92      0.88       613\n",
      "           1       0.81      0.69      0.74       318\n",
      "\n",
      "    accuracy                           0.84       931\n",
      "   macro avg       0.83      0.80      0.81       931\n",
      "weighted avg       0.84      0.84      0.83       931\n",
      "\n"
     ]
    }
   ],
   "source": [
    "# RF\n",
    "RFstart_time = datetime.now()\n",
    "\n",
    "rfclass=RandomForestClassifier(n_estimators=20,random_state=0)\n",
    "rfclass.fit(X_train, y_train)\n",
    "rfypred=rfclass.predict(X_test)\n",
    "rfclass.score(X_test, y_test)\n",
    "rfcm = confusion_matrix(y_test,rfypred)\n",
    "\n",
    "print('Speed:', datetime.now() - RFstart_time)\n",
    "print(\"Accuracy:\",metrics.accuracy_score(y_test, rfypred))\n",
    "print('Confusion Matrix:')\n",
    "print(pd.DataFrame(rfcm))\n",
    "print(\"Classification Report:\")\n",
    "print(classification_report(y_test, rfypred))"
   ]
  },
  {
   "cell_type": "code",
   "execution_count": 15,
   "metadata": {},
   "outputs": [
    {
     "data": {
      "text/plain": [
       "Education                    0.101928\n",
       "JoiningYear                  0.332817\n",
       "City                         0.106035\n",
       "PaymentTier                  0.093654\n",
       "Age                          0.176458\n",
       "Gender                       0.090226\n",
       "EverBenched                  0.019098\n",
       "ExperienceInCurrentDomain    0.079783\n",
       "dtype: float64"
      ]
     },
     "execution_count": 15,
     "metadata": {},
     "output_type": "execute_result"
    }
   ],
   "source": [
    "rfimp = rfclass.feature_importances_\n",
    "df_cof_RF = pd.Series(rfimp,X.columns)\n",
    "df_cof_RF"
   ]
  },
  {
   "cell_type": "code",
   "execution_count": 16,
   "metadata": {},
   "outputs": [
    {
     "data": {
      "text/plain": [
       "<AxesSubplot:>"
      ]
     },
     "execution_count": 16,
     "metadata": {},
     "output_type": "execute_result"
    },
    {
     "data": {
      "image/png": "[encoded data removed]",
      "text/plain": [
       "<Figure size 432x288 with 1 Axes>"
      ]
     },
     "metadata": {
      "needs_background": "light"
     },
     "output_type": "display_data"
    }
   ],
   "source": [
    "df_cof_RF.head(18).sort_values().plot.barh()"
   ]
  },
  {
   "cell_type": "code",
   "execution_count": 17,
   "metadata": {},
   "outputs": [
    {
     "name": "stdout",
     "output_type": "stream",
     "text": [
      "Speed: 0:00:00.257046\n",
      "Accuracy: 0.6584317937701396\n",
      "Confusion Matrix:\n",
      "     0  1\n",
      "0  613  0\n",
      "1  318  0\n",
      "Classification Report:\n",
      "              precision    recall  f1-score   support\n",
      "\n",
      "           0       0.66      1.00      0.79       613\n",
      "           1       0.00      0.00      0.00       318\n",
      "\n",
      "    accuracy                           0.66       931\n",
      "   macro avg       0.33      0.50      0.40       931\n",
      "weighted avg       0.43      0.66      0.52       931\n",
      "\n"
     ]
    }
   ],
   "source": [
    "# NN\n",
    "NNstart_time = datetime.now()\n",
    "\n",
    "nnclass=MLPClassifier(3,solver='lbfgs', learning_rate_init= 0.01, max_iter=100).fit(X_train, y_train)\n",
    "nnypred=nnclass.predict(X_test)\n",
    "nnclass.score(X_test, y_test)\n",
    "nnclass.predict_proba(X_test[:1])\n",
    "nncm = confusion_matrix(y_test,nnypred)\n",
    "\n",
    "print('Speed:', datetime.now() - NNstart_time)\n",
    "print(\"Accuracy:\",metrics.accuracy_score(y_test, nnypred))\n",
    "print('Confusion Matrix:')\n",
    "print(pd.DataFrame(nncm))\n",
    "print(\"Classification Report:\")\n",
    "print(classification_report(y_test, nnypred))"
   ]
  }
 ],
 "metadata": {
  "kernelspec": {
   "display_name": "Python 3",
   "language": "python",
   "name": "python3"
  },
  "language_info": {
   "codemirror_mode": {
    "name": "ipython",
    "version": 3
   },
   "file_extension": ".py",
   "mimetype": "text/x-python",
   "name": "python",
   "nbconvert_exporter": "python",
   "pygments_lexer": "ipython3",
   "version": "3.8.5"
  }
 },
 "nbformat": 4,
 "nbformat_minor": 4
}

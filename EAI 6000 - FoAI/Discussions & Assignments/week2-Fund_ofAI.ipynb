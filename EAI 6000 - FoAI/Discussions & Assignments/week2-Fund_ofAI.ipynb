{
 "cells": [
  {
   "cell_type": "code",
   "execution_count": 40,
   "metadata": {},
   "outputs": [],
   "source": [
    "import numpy as np\n",
    "import pandas as pd\n",
    "import os\n",
    "import numpy as np\n",
    "import seaborn as sns\n",
    "from sklearn.linear_model import LinearRegression\n",
    "from sklearn.decomposition import PCA\n",
    "from sklearn.metrics import log_loss\n",
    "from sklearn.pipeline import Pipeline\n",
    "from sklearn.base import BaseEstimator, TransformerMixin\n",
    "from sklearn.preprocessing import StandardScaler, MinMaxScaler\n",
    "from sklearn.model_selection import train_test_split, cross_val_predict, cross_validate, cross_val_score"
   ]
  },
  {
   "cell_type": "code",
   "execution_count": 41,
   "metadata": {},
   "outputs": [],
   "source": [
    "# reading data files and storing them in a dataframe\n",
    "df_train_features = pd.read_csv('D:/Fundamental of AI/lish-moa/train_features.csv')\n",
    "df_test_features = pd.read_csv('D:/Fundamental of AI/lish-moa/test_features.csv')\n",
    "df_train_target_nonscored = pd.read_csv('D:/Fundamental of AI/lish-moa/train_targets_nonscored.csv')\n",
    "df_train_target_scored = pd.read_csv('D:/Fundamental of AI/lish-moa/train_targets_scored.csv')"
   ]
  },
  {
   "cell_type": "code",
   "execution_count": 42,
   "metadata": {},
   "outputs": [],
   "source": [
    "# Feature Extraction \n",
    "ctl_vehicle_ids = (df_train_features['cp_type'] == 'ctl_vehicle')\n",
    "cp_cat_cols = ['cp_type', 'cp_time', 'cp_dose']\n",
    "# select all indices when 'cp_type' is 'ctl_vehicle'\n",
    "ctl_vehicle_cols = (df_train_features['cp_type'] == 'ctl_vehicle')\n",
    "# take a copy of all our training sig_ids for reference\n",
    "train_sig_ids = df_train_features['sig_id'].copy()\n",
    "# drop cp_type column since we no longer need it\n",
    "X = df_train_features.drop(['sig_id', 'cp_type'], axis=1).copy()\n",
    "X = X.loc[~ctl_vehicle_ids].copy()\n",
    "y = df_train_target_scored.drop('sig_id', axis=1).copy()\n",
    "y = y.loc[~ctl_vehicle_ids].copy()"
   ]
  },
  {
   "cell_type": "code",
   "execution_count": 43,
   "metadata": {},
   "outputs": [],
   "source": [
    "# Data pre processing\n",
    "class data_pre_processor(BaseEstimator, TransformerMixin):\n",
    "   # data prep processing and data loading into the function\n",
    "    def __init__(self, remove_ctl_vehicles=True, std_features=True, encode_cat=True,\n",
    "                 cp_cat_cols=['cp_time', 'cp_dose']):\n",
    "        self.remove_ctl_vehicles = remove_ctl_vehicles\n",
    "        self.std_features = std_features\n",
    "        self.cp_cat_cols = cp_cat_cols\n",
    "        self.encode_cat = encode_cat \n",
    "    def fit(self, X, y=None):\n",
    "        return self\n",
    "    def transform(self, X):\n",
    "        temp_df = self._remove_features(X).copy()\n",
    "        if self.std_features:\n",
    "            pass\n",
    "        if self.encode_cat:\n",
    "            temp_df = pd.concat([pd.get_dummies(temp_df.cp_dose, prefix='cp_dose'), \n",
    "                                temp_df.drop('cp_dose', axis=1)], axis=1)\n",
    "            temp_df = pd.concat([pd.get_dummies(temp_df.cp_time, prefix='cp_time'),\n",
    "                                temp_df.drop('cp_time', axis=1)], axis=1)\n",
    "            \n",
    "        return temp_df\n",
    "    def _remove_features(self, dataframe):\n",
    "        if self.remove_ctl_vehicles:\n",
    "            temp_df = dataframe.drop(['sig_id', 'cp_type'], axis=1) \n",
    "        else:\n",
    "            temp_df = dataframe.drop('sig_id', axis=1)\n",
    "        return temp_df\n",
    "    def _standardise_features(self, dataframe):\n",
    "        pass\n",
    "        "
   ]
  },
  {
   "cell_type": "code",
   "execution_count": 44,
   "metadata": {},
   "outputs": [],
   "source": [
    "# features extraction continued\n",
    "train_sig_ids = df_train_features['sig_id'].copy()\n",
    "# select all indices when 'cp_type' is 'ctl_vehicle'\n",
    "train_ctl_vehicle_ids = (df_train_features['cp_type'] == 'ctl_vehicle')\n",
    "# initialization of data processing class for transforming dataset\n",
    "data_pre_processor = data_pre_processor()\n",
    "# dropping low correlated features and which are not required and encode  of categorical features from feature and target variables\n",
    "X = data_pre_processor.fit_transform(df_train_features)\n",
    "y = df_train_target_scored.drop('sig_id', axis=1).copy()\n",
    "# dropping the rows where cp_type is ctl_vehicle from training features  and target sets\n",
    "X = X.loc[~train_ctl_vehicle_ids].copy()\n",
    "y = df_train_target_scored.drop('sig_id', axis=1).copy()\n",
    "y = y.loc[~train_ctl_vehicle_ids].copy()\n",
    "# standardisation of numerical columns\n",
    "std_scaler = StandardScaler()\n",
    "num_cols = [x for x in X.columns.values if not x.startswith(('cp_time', 'cp_dose'))]\n",
    "X_std = X.copy()\n",
    "X_std[num_cols] = std_scaler.fit_transform(X.loc[:, num_cols])\n",
    "X_train, X_test, y_train, y_test = train_test_split(X, y, test_size=0.3, random_state=0)\n"
   ]
  },
  {
   "cell_type": "code",
   "execution_count": 45,
   "metadata": {},
   "outputs": [
    {
     "name": "stdout",
     "output_type": "stream",
     "text": [
      "Log loss for Linear Regression Model: 0.03581\n",
      "\n"
     ]
    }
   ],
   "source": [
    "# Model Building, loss calcuation and prediction of values\n",
    "lin_reg = LinearRegression()\n",
    "lin_reg = LinearRegression()\n",
    "lr_val_preds = cross_val_predict(lin_reg, X_std, y, cv=5)\n",
    "lr_log_loss = log_loss(np.ravel(y), np.ravel(lr_val_preds))\n",
    "print(f\"Log loss for Linear Regression Model: {lr_log_loss:.5f}\\n\")\n"
   ]
  },
  {
   "cell_type": "code",
   "execution_count": 46,
   "metadata": {},
   "outputs": [
    {
     "name": "stdout",
     "output_type": "stream",
     "text": [
      "Log loss for Linear Regression with PCA (n=1): 0.02145\n",
      "\n",
      "Log loss for Linear Regression with PCA (n=2): 0.02154\n",
      "\n",
      "Log loss for Linear Regression with PCA (n=5): 0.02134\n",
      "\n",
      "Log loss for Linear Regression with PCA (n=10): 0.02149\n",
      "\n",
      "Log loss for Linear Regression with PCA (n=25): 0.02193\n",
      "\n",
      "Log loss for Linear Regression with PCA (n=50): 0.02251\n",
      "\n",
      "Log loss for Linear Regression with PCA (n=100): 0.02489\n",
      "\n",
      "Log loss for Linear Regression with PCA (n=150): 0.02703\n",
      "\n",
      "Log loss for Linear Regression with PCA (n=200): 0.02802\n",
      "\n",
      "Log loss for Linear Regression with PCA (n=250): 0.02960\n",
      "\n"
     ]
    }
   ],
   "source": [
    "# principle component analysis and calculating loss for each iteration\n",
    "n_range = [1, 2, 5, 10, 25, 50, 100, 150, 200, 250]\n",
    "log_losses = []\n",
    "\n",
    "lin_reg = LinearRegression()\n",
    "\n",
    "for n in n_range:\n",
    "    pca = PCA(n_components=n)\n",
    "    lr_model = Pipeline(steps=[('pca', pca), ('linear regression', lin_reg)])\n",
    "    \n",
    "    # evaluate of model using cross validation\n",
    "    lr_val_preds = cross_val_predict(lr_model, X_std, y, cv=5)\n",
    "\n",
    "    #  we need to flatten both arrays before computing log loss\n",
    "    lr_log_loss = log_loss(np.ravel(y), np.ravel(lr_val_preds))\n",
    "    print(f\"Log loss for Linear Regression with PCA (n={n}): {lr_log_loss:.5f}\\n\")\n",
    "    \n",
    "    log_losses.append(lr_log_loss)\n"
   ]
  },
  {
   "cell_type": "code",
   "execution_count": 47,
   "metadata": {},
   "outputs": [
    {
     "data": {
      "image/png": "[encoded data removed]",
      "text/plain": [
       "<Figure size 1008x360 with 1 Axes>"
      ]
     },
     "metadata": {
      "needs_background": "light"
     },
     "output_type": "display_data"
    }
   ],
   "source": [
    "# Performance of model visualization using seaborn library\n",
    "import matplotlib.pyplot as plt\n",
    "plt.figure(figsize=(14,5))\n",
    "sns.lineplot(x=n_range, y=log_losses)\n",
    "plt.ylabel(\"Average Logarithmic Loss\", weight='bold')\n",
    "plt.xlabel(\"Principle component analysis components count\", weight='bold')\n",
    "plt.grid()\n",
    "plt.show()"
   ]
  },
  {
   "cell_type": "code",
   "execution_count": 48,
   "metadata": {},
   "outputs": [
    {
     "name": "stdout",
     "output_type": "stream",
     "text": [
      "Wall time: 2.04 s\n"
     ]
    },
    {
     "data": {
      "text/plain": [
       "array([[0.00046377, 0.0006407 , 0.00114837, ..., 0.00122346, 0.00272145,\n",
       "        0.00180142],\n",
       "       [0.00065271, 0.00099882, 0.00137201, ..., 0.00159442, 0.00226174,\n",
       "        0.00179955],\n",
       "       [0.00043257, 0.00033788, 0.00112418, ..., 0.00112083, 0.00297463,\n",
       "        0.00171873],\n",
       "       ...,\n",
       "       [0.00102035, 0.00079012, 0.00124033, ..., 0.00142104, 0.002519  ,\n",
       "        0.00173592],\n",
       "       [0.00152803, 0.00075749, 0.00133695, ..., 0.00149892, 0.00184438,\n",
       "        0.00126538],\n",
       "       [0.00074455, 0.00069628, 0.00135145, ..., 0.00155215, 0.00275985,\n",
       "        0.00184625]])"
      ]
     },
     "execution_count": 48,
     "metadata": {},
     "output_type": "execute_result"
    }
   ],
   "source": [
    "# using model to make predictions on test data set\n",
    "# filtering sig ids for splitting feature and target variables\n",
    "test_sig_ids = df_test_features['sig_id'].copy()\n",
    "# filtering the rows in test dataset where 'cp_type' is 'ctl_vehicle'\n",
    "test_dataset_ctl_vehicle_ids = (df_test_features['cp_type'] == 'ctl_vehicle')\n",
    "X_test = data_pre_processor.transform(df_test_features)\n",
    "# Sclaing of test dataset\n",
    "test_cols = [x for x in X_test.columns.values if not x.startswith(('cp_time', 'cp_dose'))]\n",
    "X_test_standardization = X_test.copy()\n",
    "X_test_standardization[test_cols] = std_scaler.transform(X_test.loc[:, test_cols])\n",
    "# fitting model on test dataset\n",
    "lin_reg = LinearRegression()\n",
    "pca = PCA(n_components=5)\n",
    "lr_model = Pipeline(steps=[('pca', pca), ('linear regression', lin_reg)])\n",
    "%time lr_model.fit(X_std, y)\n",
    "#  final predicted values on test dataset\n",
    "test_prediction = lr_model.predict(X_test_standardization)\n",
    "test_prediction[test_sig_ids[test_dataset_ctl_vehicle_ids].index.values]"
   ]
  },
  {
   "cell_type": "code",
   "execution_count": 49,
   "metadata": {},
   "outputs": [
    {
     "data": {
      "image/png": "[encoded data removed]",
      "text/plain": [
       "<Figure size 432x288 with 1 Axes>"
      ]
     },
     "metadata": {
      "needs_background": "light"
     },
     "output_type": "display_data"
    }
   ],
   "source": [
    "#plotting qq plot\n",
    "import statsmodels.api as sm\n",
    "sm.qqplot(test_prediction,fit=True,line='45')\n",
    "plt.show()"
   ]
  },
  {
   "cell_type": "code",
   "execution_count": 61,
   "metadata": {},
   "outputs": [],
   "source": [
    "import pandas as pd\n",
    "import numpy as np\n",
    "from sklearn.model_selection import KFold\n",
    "from sklearn.multioutput import MultiOutputClassifier\n",
    "from sklearn.linear_model import LogisticRegression\n",
    "from joblib import dump, load\n",
    "from sklearn.preprocessing import LabelEncoder\n",
    "from sklearn.metrics import log_loss\n",
    "from datetime import date\n",
    "from sklearn.pipeline import Pipeline\n",
    "from sklearn.svm import SVC\n",
    "from sklearn.preprocessing import StandardScaler\n",
    "from sklearn.decomposition import PCA"
   ]
  },
  {
   "cell_type": "code",
   "execution_count": 67,
   "metadata": {},
   "outputs": [],
   "source": [
    "# random seed value\n",
    "xseed = 43\n",
    "\n",
    "# number of folds for cv\n",
    "nfolds = 5\n",
    "\n",
    "# number of components from PCA decomposition\n",
    "nof_comp = 250\n",
    "\n",
    "model_name = 'lr'\n",
    "\n",
    "X_train = pd.read_csv('D:/Fundamental of AI/lish-moa/train_features.csv')\n",
    "X_test = pd.read_csv('D:/Fundamental of AI/lish-moa/test_features.csv')\n",
    "y_train = pd.read_csv('D:/Fundamental of AI/lish-moa/train_targets_scored.csv')\n"
   ]
  },
  {
   "cell_type": "code",
   "execution_count": 68,
   "metadata": {},
   "outputs": [
    {
     "name": "stdout",
     "output_type": "stream",
     "text": [
      "{24, 48, 72} {24, 48, 72}\n",
      "{'D2', 'D1'} {'D2', 'D1'}\n"
     ]
    }
   ],
   "source": [
    "# data pre processing\n",
    "\n",
    "print(set(X_train['cp_time']), set(X_test['cp_time']) )\n",
    "\n",
    "# cp_time processing\n",
    "X_train['cp_time_24'] = (X_train['cp_time'] == 24) + 0\n",
    "X_train['cp_time_48'] = (X_train['cp_time'] == 48) + 0\n",
    "X_test['cp_time_24'] = (X_test['cp_time'] == 24) + 0\n",
    "X_test['cp_time_48'] = (X_test['cp_time'] == 48) + 0\n",
    "X_train.drop('cp_time', axis = 1, inplace = True)\n",
    "X_test.drop('cp_time', axis = 1, inplace = True)\n",
    "\n",
    "# cp_dose processing\n",
    "print(set(X_train['cp_dose']), set(X_test['cp_dose']) )\n",
    "X_train['cp_dose_D1'] = (X_train['cp_dose'] == 'D1') + 0\n",
    "X_test['cp_dose_D1'] = (X_test['cp_dose'] == 'D1') + 0\n",
    "X_train.drop('cp_dose', axis = 1, inplace = True)\n",
    "X_test.drop('cp_dose', axis = 1, inplace = True)\n",
    "# cp_type processing\n",
    "X_train['cp_type_control'] = (X_train['cp_type'] == 'ctl_vehicle') + 0\n",
    "X_test['cp_type_control'] = (X_test['cp_type'] == 'ctl_vehicle') + 0\n",
    "X_train.drop('cp_type', axis = 1, inplace = True)\n",
    "X_test.drop('cp_type', axis = 1, inplace = True)"
   ]
  },
  {
   "cell_type": "code",
   "execution_count": 69,
   "metadata": {},
   "outputs": [],
   "source": [
    "# prepare split for the k fold\n",
    "kf = KFold(n_splits = nfolds)\n",
    "\n",
    "# separation of train and test\n",
    "id_train = X_train['sig_id']\n",
    "id_test = X_test['sig_id']\n",
    "y_train.drop('sig_id', axis = 1, inplace = True) \n",
    "X_train.drop('sig_id', axis = 1, inplace = True)\n",
    "X_test.drop('sig_id', axis = 1, inplace = True)\n",
    "\n",
    "# storage matrices for test predictions\n",
    "prval = np.zeros(y_train.shape)\n",
    "prfull = np.zeros((X_test.shape[0], y_train.shape[1]))"
   ]
  },
  {
   "cell_type": "code",
   "execution_count": 70,
   "metadata": {},
   "outputs": [],
   "source": [
    "# base model defining\n",
    "pca = PCA(n_components = nof_comp)\n",
    "logistic = LogisticRegression(max_iter=10000, tol=0.1, C = 0.5)\n",
    "base_model = Pipeline(steps=[('pca', pca), ('logistic', logistic)])\n",
    "\n",
    "# a pipeline can be fed into MultiOutputClassifier just like a regular estimator would\n",
    "mo_base = MultiOutputClassifier(base_model, n_jobs=-1)"
   ]
  },
  {
   "cell_type": "code",
   "execution_count": 72,
   "metadata": {},
   "outputs": [],
   "source": [
    "for (ff, (id0, id1)) in enumerate(kf.split(X_train)):\n",
    "     \n",
    "    x0, x1 = X_train.loc[id0], X_train.loc[id1]\n",
    "    y0, y1 = np.array(y_train.loc[id0]), np.array(y_train.loc[id1])\n",
    "    check_for_empty_cols = np.where(y0.sum(axis = 0) == 0)[0]\n",
    "    if len(check_for_empty_cols):\n",
    "        y0[0,check_for_empty_cols] = 1\n",
    "    \n",
    "    # fit model\n",
    "    mo_base.fit(x0,y0)\n",
    "    \n",
    "    # generate the prediction\n",
    "    vpred = mo_base.predict_proba(x1)\n",
    "    fpred = mo_base.predict_proba(X_test)\n",
    "    \n",
    "    for ii in range(0,y_train.shape[1]):\n",
    "        \n",
    "        prval[id1,ii] = vpred[ii][:,1]\n",
    "        prfull[:,ii] += fpred[ii][:,1]/nfolds"
   ]
  },
  {
   "cell_type": "code",
   "execution_count": null,
   "metadata": {},
   "outputs": [],
   "source": [
    "prval = pd.DataFrame(prval); prval.columns = y_train.columns\n",
    "prval['sig_id'] = id_train\n",
    "\n",
    "prfull = pd.DataFrame(prfull); prfull.columns = y_train.columns\n",
    "prfull['sig_id'] = id_test"
   ]
  },
  {
   "cell_type": "code",
   "execution_count": null,
   "metadata": {},
   "outputs": [],
   "source": [
    "metrics = []\n",
    "for _target in y_train.columns:\n",
    "    metrics.append(log_loss(y_train.loc[:, _target], prval.loc[:, _target]))\n",
    "print(f'OOF Metric: {np.round(np.mean(metrics),4)}')"
   ]
  },
  {
   "cell_type": "code",
   "execution_count": 74,
   "metadata": {},
   "outputs": [
    {
     "data": {
      "image/png": "[encoded data removed]",
      "text/plain": [
       "<Figure size 432x288 with 1 Axes>"
      ]
     },
     "metadata": {
      "needs_background": "light"
     },
     "output_type": "display_data"
    }
   ],
   "source": [
    "#plotting qq plot for logistic\n",
    "import statsmodels.api as sm\n",
    "sm.qqplot(prfull,fit=True,line='45')\n",
    "plt.show()"
   ]
  },
  {
   "cell_type": "code",
   "execution_count": null,
   "metadata": {},
   "outputs": [],
   "source": []
  }
 ],
 "metadata": {
  "kernelspec": {
   "display_name": "Python 3",
   "language": "python",
   "name": "python3"
  },
  "language_info": {
   "codemirror_mode": {
    "name": "ipython",
    "version": 3
   },
   "file_extension": ".py",
   "mimetype": "text/x-python",
   "name": "python",
   "nbconvert_exporter": "python",
   "pygments_lexer": "ipython3",
   "version": "3.7.6"
  }
 },
 "nbformat": 4,
 "nbformat_minor": 4
}
